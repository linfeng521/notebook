{
 "cells": [
  {
   "cell_type": "markdown",
   "metadata": {},
   "source": [
    "# OpenCV图像处理"
   ]
  },
  {
   "cell_type": "markdown",
   "metadata": {},
   "source": [
    "## 1.颜色空间\n",
    "\n",
    "对图像进行颜色空间转换，比如从BGR 到灰度图，或者从BGR 到HSV 等。\n",
    "常用函数: ：cv2.cvtColor()，cv2.inRange()"
   ]
  },
  {
   "cell_type": "code",
   "execution_count": 2,
   "metadata": {},
   "outputs": [],
   "source": [
    "import cv2\n",
    "flags=[ i for i in dir(cv2) if i.startswith('COLOR_')]"
   ]
  },
  {
   "cell_type": "markdown",
   "metadata": {},
   "source": [
    "在OpenCV 中有超过150 中进行颜色空间转换的方法。但是你以后就会\n",
    "发现我们经常用到的也就两种：BGR~Gray 和BGR~HSV。\n",
    "我们要用到的函数是：cv2.cvtColor(input_image，flag)，其中flag\n",
    "就是转换类型。\n",
    "对于BGR~Gray 的转换，我们要使用的flag 就是cv2.COLOR_BGR2GRAY。\n",
    "同样对于BGR$HSV 的转换，我们用的flag 就是cv2.COLOR_BGR2HSV。\n",
    "你还可以通过下面的命令得到所有可用的flag。"
   ]
  },
  {
   "cell_type": "markdown",
   "metadata": {},
   "source": [
    "HSV: 色调（H），饱和度（S），明度（V）\n",
    "HSL: 由色相、饱和度、明亮度"
   ]
  },
  {
   "cell_type": "markdown",
   "metadata": {},
   "source": [
    "## 1.1物体跟踪\n",
    "现在我们知道怎样将一幅图像从BGR 转换到HSV 了，我们可以利用这一点来提取带有某个特定颜色的物体。在HSV 颜色空间中要比在BGR 空间中更容易表示一个特定颜色。在我们的程序中，我们要提取的是一个蓝色的物体。下面就是就是我们要做的几步：\n",
    "\n",
    "    • 从视频中获取每一帧图像\n",
    "\n",
    "    • 将图像转换到HSV 空间\n",
    "\n",
    "    • 设置HSV 阈值到蓝色范围。\n",
    "\n",
    "    • 获取蓝色物体，当然我们还可以做其他任何我们想做的事，比如：在蓝色\n",
    "    物体周围画一个圈。"
   ]
  },
  {
   "cell_type": "code",
   "execution_count": 18,
   "metadata": {},
   "outputs": [],
   "source": [
    "import cv2\n",
    "import numpy as np\n",
    "\n",
    "cap = cv2.VideoCapture(0)\n",
    "\n",
    "while(1):\n",
    "    ret,frame = cap.read()\n",
    "    #print(ret)\n",
    "    # 转换为HSV\n",
    "    hsv = cv2.cvtColor(frame,cv2.COLOR_BGR2HSV)\n",
    "    \n",
    "    # 设定蓝色的阈值\n",
    "    lower_blue=np.array([110,50,50])\n",
    "    upper_blue=np.array([130,255,255])\n",
    "    \n",
    "    # 根据阈值构建掩模\n",
    "    mask=cv2.inRange(hsv,lower_blue,upper_blue)\n",
    "    \n",
    "    # 对原图像和掩模进行位运算\n",
    "    res=cv2.bitwise_and(frame,frame,mask=mask)\n",
    "    # 显示图像\n",
    "    cv2.imshow('frame',frame)\n",
    "    cv2.imshow('mask',mask)\n",
    "    cv2.imshow('res',res)\n",
    "    # 进行降噪处理\n",
    "    blur = cv2.GaussianBlur(res,(5,5),0)\n",
    "    cv2.imshow(\"blur_gaos\",blur)\n",
    "    k=cv2.waitKey(5)&0xFF\n",
    "    if k==27:\n",
    "        break\n",
    "        \n",
    "# 关闭窗口\n",
    "cv2.destroyAllWindows()\n",
    "cap.release()"
   ]
  },
  {
   "cell_type": "code",
   "execution_count": 16,
   "metadata": {},
   "outputs": [],
   "source": [
    "cap.release()"
   ]
  },
  {
   "cell_type": "markdown",
   "metadata": {},
   "source": [
    "### 如何获取要跟踪对象的HSV值"
   ]
  },
  {
   "cell_type": "code",
   "execution_count": 9,
   "metadata": {},
   "outputs": [
    {
     "data": {
      "text/plain": [
       "array([[[ 60, 255, 255]]], dtype=uint8)"
      ]
     },
     "execution_count": 9,
     "metadata": {},
     "output_type": "execute_result"
    }
   ],
   "source": [
    "import cv2\n",
    "import numpy as np\n",
    "green=np.uint8([[[0,255,0]]])\n",
    "hsv_green=cv2.cvtColor(green,cv2.COLOR_BGR2HSV)\n",
    "hsv_green"
   ]
  },
  {
   "cell_type": "markdown",
   "metadata": {},
   "source": [
    "\n",
    "现在你可以分别用[H-100，100，100] 和[H+100，255，255] 做上\n",
    "下阈值。除了这个方法之外，你可以使用任何其他图像编辑软件（例如GIMP）\n",
    "或者在线转换软件找到相应的HSV 值，但是最后别忘了调节HSV 的范围。"
   ]
  },
  {
   "cell_type": "markdown",
   "metadata": {},
   "source": [
    "## 阈值操作\n",
    "图像的阈值处理\n",
    "      一幅图像包括目标物体、背景还有噪声，要想从多值的数字图像中直接提取出目标物体，常用的方法就是设定一个阈值T，用T将图像的数据分成两部分：大于T的像素群和小于T的像素群。这是研究灰度变换的最特殊的方法，称为图像的二值化（Binarization）。\n",
    "\n",
    "       阈值分割法的特点是:适用于目标与背景灰度有较强对比的情况，重要的是背景或物体的灰度比较单一，而且总可以得到封闭且连通区域的边界。\n",
    "\n",
    "（一）简单阈值\n",
    "\n",
    "函数原型: retval, dst = cv2.threshold(src, thresh , maxval,type)\n",
    "\n",
    "这个函数有四个参数，第一个是原图像矩阵，第二个是进行分类的阈值，第三个是高于（低于）阈值时赋予的新值，第四个是一个方法选择参数，常用的有：\n",
    "\n",
    "    cv2.THRESH_BINARY（黑白二值）\n",
    "    cv2.THRESH_BINARY_INV（黑白二值翻转）\n",
    "    cv2.THRESH_TRUNC（得到额图像为多像素值）\n",
    "    cv2.THRESH_TOZERO（当像素高于阈值时像素设置为自己提供的像素值，低于阈值时不作处理）\n",
    "    cv2.THRESH_TOZERO_INV（当像素低于阈值时设置为自己提供的像素值，高于阈值时不作处理）"
   ]
  },
  {
   "cell_type": "code",
   "execution_count": 14,
   "metadata": {},
   "outputs": [
    {
     "name": "stdout",
     "output_type": "stream",
     "text": [
      "127.0\n"
     ]
    }
   ],
   "source": [
    "img = cv2.imread('hi.png',0)\n",
    "ret, thresh1 = cv2.threshold(img, 127, 255, cv2.THRESH_BINARY)  # binary （黑白二值）\n",
    "ret, thresh2 = cv2.threshold(img, 127, 255, cv2.THRESH_BINARY_INV)  # （黑白二值反转）\n",
    "ret, thresh3 = cv2.threshold(img, 127, 255, cv2.THRESH_TRUNC)  # 得到的图像为多像素值\n",
    "ret, thresh4 = cv2.threshold(img, 127, 255, cv2.THRESH_TOZERO)  # 高于阈值时像素设置为255，低于阈值时不作处理\n",
    "ret, thresh5 = cv2.threshold(img, 127, 255, cv2.THRESH_TOZERO_INV)  # 低于阈值时设置为255，高于阈值时不作处理\n",
    "\n",
    "print(ret)\n",
    "\n",
    "cv2.imshow('二值化', thresh1)\n",
    "cv2.imshow('反二值化', thresh2)\n",
    "cv2.imshow('thresh3', thresh3)\n",
    "cv2.imshow('高于阈值设置选定的值', thresh4)\n",
    "cv2.imshow('低于阈值设定的值', thresh5)\n",
    "cv2.imshow('原始图', img)\n",
    "cv2.waitKey(0)\n",
    "cv2.destroyAllWindows"
   ]
  },
  {
   "cell_type": "markdown",
   "metadata": {},
   "source": [
    "## 图像模糊(图像平滑)处理\n",
    "使用低通滤波器可以达到图像模糊的目的。这对与去除噪音很有帮助。其实就是去除图像中的高频成分（比如：噪音，边界）。所以边界也会被模糊一点。（当然，也有一些模技术不会模糊掉边界）。OpenCV 提供了四种模糊技术。"
   ]
  },
  {
   "cell_type": "markdown",
   "metadata": {},
   "source": [
    "### 平均\n",
    "由一个归一化卷积框完成的。他只是用卷积框覆盖区域所有像素的平均值来代替中心元素。"
   ]
  },
  {
   "cell_type": "code",
   "execution_count": 2,
   "metadata": {},
   "outputs": [],
   "source": [
    "import cv2\n",
    "img = cv2.imread(\"hi.png\")\n",
    "blur= cv2.blur(img,(5,5))\n",
    "cv2.imshow(\"img\",img)\n",
    "cv2.imshow(\"blur\",blur)\n",
    "cv2.waitKey(0)\n",
    "cv2.destroyAllWindows()"
   ]
  },
  {
   "cell_type": "markdown",
   "metadata": {},
   "source": [
    "### II.高斯模糊\n",
    "把卷积核换成高斯核（简单来说，方框不变，将原来每个方框的值是\n",
    "相等的，现在里面的值是符合高斯分布的，方框中心的值最大，其余方框根据\n",
    "距离中心元素的距离递减，构成一个高斯小山包。原来的求平均数现在变成求\n",
    "加权平均数，全就是方框里的值）。实现的函数是cv2.GaussianBlur()。我\n",
    "们需要指定高斯核的宽和高（必须是**奇数**）。以及高斯函数沿X，Y 方向的标准\n",
    "差。如果我们只指定了X 方向的的标准差，Y 方向也会取相同值。如果两个标\n",
    "准差都是0，那么函数会根据核函数的大小自己计算。高斯滤波可以有效的从\n",
    "图像中去除高斯噪音。"
   ]
  },
  {
   "cell_type": "code",
   "execution_count": 5,
   "metadata": {},
   "outputs": [
    {
     "data": {
      "text/plain": [
       "-1"
      ]
     },
     "execution_count": 5,
     "metadata": {},
     "output_type": "execute_result"
    }
   ],
   "source": [
    "#0 是指根据窗口大小（5,5）来计算高斯函数标准差\n",
    "blur = cv2.GaussianBlur(img,(5,5),0)\n",
    "cv2.imshow(\"blur_gaos\",blur)\n",
    "cv2.waitKey(0)"
   ]
  },
  {
   "cell_type": "markdown",
   "metadata": {},
   "source": [
    "### III.中值模糊\n",
    "与卷积框对应像素的中值来替代中心像素的值。这个滤波\n",
    "器经常用来去除**椒盐噪声**。前面的滤波器都是用计算得到的一个新值来取代中\n",
    "心像素的值，而中值滤波是用中心像素周围（也可以使他本身）的值来取代他。\n",
    "他能有效的去除噪声。卷积核的大小也应该是一个奇数。\n",
    "在这个例子中，我们给原始图像加上50% 的噪声然后再使用中值模糊。"
   ]
  },
  {
   "cell_type": "code",
   "execution_count": 7,
   "metadata": {},
   "outputs": [
    {
     "data": {
      "text/plain": [
       "-1"
      ]
     },
     "execution_count": 7,
     "metadata": {},
     "output_type": "execute_result"
    }
   ],
   "source": [
    "median = cv2.medianBlur(img,5)\n",
    "cv2.imshow(\"median\",median)\n",
    "cv2.waitKey(0)"
   ]
  },
  {
   "cell_type": "markdown",
   "metadata": {},
   "source": [
    "## 形态学变换\n",
    "不同的形态学操作，例如腐蚀，膨胀，开运算，闭运算等\n",
    "\n",
    "cv2.erode()，cv2.dilate()，cv2.morphologyEx()"
   ]
  },
  {
   "cell_type": "code",
   "execution_count": 5,
   "metadata": {},
   "outputs": [],
   "source": [
    "import cv2\n",
    "import numpy as np"
   ]
  },
  {
   "cell_type": "code",
   "execution_count": 7,
   "metadata": {},
   "outputs": [
    {
     "data": {
      "text/plain": [
       "-1"
      ]
     },
     "execution_count": 7,
     "metadata": {},
     "output_type": "execute_result"
    }
   ],
   "source": [
    "img = cv2.imread('erode_old.jpg',0)\n",
    "kernel = np.ones((5,5),np.uint8)\n",
    "erosion = cv2.erode(img,kernel,iterations = 1)\n",
    "cv2.imshow(\"erode_old\",img)\n",
    "cv2.imshow('erode_new',erosion)\n",
    "cv2.imwrite('erode_new.png',erosion)\n",
    "cv2.waitKey(0)"
   ]
  },
  {
   "cell_type": "markdown",
   "metadata": {},
   "source": [
    "\n"
   ]
  },
  {
   "cell_type": "markdown",
   "metadata": {},
   "source": [
    "膨胀dilate\n",
    "\n",
    "与腐蚀相反，与卷积核对应的原图像的像素值中只要有一个是1，中心元\n",
    "素的像素值就是1。所以这个操作会增加图像中的白色区域（前景）。一般在去\n",
    "噪声时先用腐蚀再用膨胀。因为腐蚀在去掉白噪声的同时，也会使前景对象变\n",
    "小。所以我们再对他进行膨胀。这时噪声已经被去除了，不会再回来了，但是\n",
    "前景还在并会增加。膨胀也可以用来连接两个分开的物体。"
   ]
  },
  {
   "cell_type": "code",
   "execution_count": 8,
   "metadata": {},
   "outputs": [
    {
     "data": {
      "text/plain": [
       "-1"
      ]
     },
     "execution_count": 8,
     "metadata": {},
     "output_type": "execute_result"
    }
   ],
   "source": [
    "dilation = cv2.dilate(img,kernel,iterations = 1)\n",
    "cv2.imshow(\"dilation\",dilation)\n",
    "cv2.waitKey(0)"
   ]
  },
  {
   "cell_type": "markdown",
   "metadata": {},
   "source": [
    "开运算\n",
    "先进性腐蚀再进行膨胀就叫做开运算。就像我们上面介绍的那样，它被用\n",
    "来去除噪声。这里我们用到的函数是cv2.morphologyEx()。\n",
    "opening = cv2.morphologyEx(img, cv2.MORPH_OPEN, kernel)"
   ]
  },
  {
   "cell_type": "markdown",
   "metadata": {},
   "source": [
    "闭运算\n",
    "先膨胀再腐蚀。它经常被用来填充前景物体中的小洞，或者前景物体上的\n",
    "小黑点。"
   ]
  },
  {
   "cell_type": "markdown",
   "metadata": {},
   "source": [
    "形态学梯度\n",
    "\n",
    "其实就是一幅图像膨胀与腐蚀的差别。\n",
    "结果看上去就像前景物体的轮廓。"
   ]
  },
  {
   "cell_type": "code",
   "execution_count": 12,
   "metadata": {},
   "outputs": [
    {
     "data": {
      "text/plain": [
       "-1"
      ]
     },
     "execution_count": 12,
     "metadata": {},
     "output_type": "execute_result"
    }
   ],
   "source": [
    "gradient = cv2.morphologyEx(img, cv2.MORPH_GRADIENT, kernel)\n",
    "cv2.imshow(\"gradient\",gradient)\n",
    "cv2.waitKey(0)"
   ]
  },
  {
   "cell_type": "code",
   "execution_count": null,
   "metadata": {},
   "outputs": [],
   "source": []
  }
 ],
 "metadata": {
  "kernelspec": {
   "display_name": "Python 3",
   "language": "python",
   "name": "python3"
  },
  "language_info": {
   "codemirror_mode": {
    "name": "ipython",
    "version": 3
   },
   "file_extension": ".py",
   "mimetype": "text/x-python",
   "name": "python",
   "nbconvert_exporter": "python",
   "pygments_lexer": "ipython3",
   "version": "3.7.0"
  }
 },
 "nbformat": 4,
 "nbformat_minor": 2
}
