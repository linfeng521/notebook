{
 "cells": [
  {
   "cell_type": "markdown",
   "metadata": {},
   "source": [
    "## 图像的基础操作\n",
    "目标\n",
    "\n",
    "    • 获取像素值并修改\n",
    "    \n",
    "    • 获取图像的属性（信息）\n",
    "    \n",
    "    • 图像的ROI（）\n",
    "    \n",
    "    • 图像通道的拆分及合并"
   ]
  },
  {
   "cell_type": "markdown",
   "metadata": {},
   "source": [
    "### 图像的属性包括：行，列，通道，图像数据类型，像素数目等\n",
    "img.size 返回图像的像素数目\n",
    "\n",
    "### img.dtype 返回的是图像的数据类型."
   ]
  },
  {
   "cell_type": "code",
   "execution_count": 2,
   "metadata": {},
   "outputs": [],
   "source": [
    "import cv2"
   ]
  },
  {
   "cell_type": "code",
   "execution_count": 3,
   "metadata": {},
   "outputs": [],
   "source": [
    "img = cv2.imread(\"me.png\",cv2.IMREAD_COLOR)\n",
    "img_gray = cv2.imread(\"higray.png\",cv2.IMREAD_GRAYSCALE)"
   ]
  },
  {
   "cell_type": "markdown",
   "metadata": {},
   "source": [
    "img.dtype 返回的是图像的数据类型."
   ]
  },
  {
   "cell_type": "code",
   "execution_count": 6,
   "metadata": {},
   "outputs": [
    {
     "data": {
      "text/plain": [
       "dtype('uint8')"
      ]
     },
     "execution_count": 6,
     "metadata": {},
     "output_type": "execute_result"
    }
   ],
   "source": [
    "img[100,100]\n",
    "img.dtype"
   ]
  },
  {
   "cell_type": "markdown",
   "metadata": {},
   "source": [
    "### img.shape 可以获取图像的形状。\n",
    "它的返回值是一个包含行数，列数，通道数的元组。\n",
    "如果图像是灰度图，返回值仅有行数和列数。所以通过检查这个返回值就可以知道加载的是灰度图还是彩色图。"
   ]
  },
  {
   "cell_type": "code",
   "execution_count": 7,
   "metadata": {},
   "outputs": [
    {
     "data": {
      "text/plain": [
       "(1296, 1920, 3)"
      ]
     },
     "execution_count": 7,
     "metadata": {},
     "output_type": "execute_result"
    }
   ],
   "source": [
    "img.shape"
   ]
  },
  {
   "cell_type": "code",
   "execution_count": 11,
   "metadata": {},
   "outputs": [
    {
     "data": {
      "text/plain": [
       "(150, 150)"
      ]
     },
     "execution_count": 11,
     "metadata": {},
     "output_type": "execute_result"
    }
   ],
   "source": [
    "img_gray.shape # 灰度图像形状"
   ]
  },
  {
   "cell_type": "markdown",
   "metadata": {},
   "source": [
    "### img.size 返回图像的像素大小\n",
    "img.size= len(row) * len(comluns) * len(tunnel)"
   ]
  },
  {
   "cell_type": "code",
   "execution_count": 12,
   "metadata": {},
   "outputs": [
    {
     "data": {
      "text/plain": [
       "7464960"
      ]
     },
     "execution_count": 12,
     "metadata": {},
     "output_type": "execute_result"
    }
   ],
   "source": [
    "img.size"
   ]
  },
  {
   "cell_type": "code",
   "execution_count": 13,
   "metadata": {},
   "outputs": [
    {
     "data": {
      "text/plain": [
       "7499952"
      ]
     },
     "execution_count": 13,
     "metadata": {},
     "output_type": "execute_result"
    }
   ],
   "source": [
    "1296*1929*3"
   ]
  },
  {
   "cell_type": "markdown",
   "metadata": {},
   "source": [
    "## 2.图像的ROI\n",
    "有时需要对一幅图像的特定区域进行操作。例如我们要检测一副图像中\n",
    "眼睛的位置，我们首先应该在图像中找到脸，再在脸的区域中找眼睛，而不是\n",
    "直接在一幅图像中搜索。这样会提高程序的准确性和性能。\n",
    "ROI 也是使用Numpy 索引来获得的。"
   ]
  },
  {
   "cell_type": "code",
   "execution_count": 14,
   "metadata": {},
   "outputs": [],
   "source": [
    "eyes = img_gray[40:60,70:200]\n",
    "img_gray[20:40,70:200]=eyes"
   ]
  },
  {
   "cell_type": "code",
   "execution_count": 16,
   "metadata": {},
   "outputs": [],
   "source": [
    "cv2.imshow(\"gray\",img_gray)\n",
    "#cv2.imshow(\"eyes\",eyes)\n",
    "cv2.waitKey(0)\n",
    "cv2.destroyAllWindows()"
   ]
  },
  {
   "cell_type": "markdown",
   "metadata": {},
   "source": [
    "### 3.拆分及合并图像通道"
   ]
  },
  {
   "cell_type": "code",
   "execution_count": 4,
   "metadata": {},
   "outputs": [],
   "source": [
    "[b,g,r]=cv2.split(img)\n",
    "cv2.imshow('blue',b)\n",
    "cv2.waitKey(0)\n",
    "cv2.destroyAllWindows()"
   ]
  },
  {
   "cell_type": "code",
   "execution_count": 5,
   "metadata": {},
   "outputs": [],
   "source": [
    "img=cv2.merge([b,g,r])"
   ]
  },
  {
   "cell_type": "code",
   "execution_count": 6,
   "metadata": {},
   "outputs": [
    {
     "data": {
      "text/plain": [
       "-1"
      ]
     },
     "execution_count": 6,
     "metadata": {},
     "output_type": "execute_result"
    }
   ],
   "source": [
    "cv2.imshow('merge',img)\n",
    "cv2.waitKey(0)"
   ]
  },
  {
   "cell_type": "markdown",
   "metadata": {},
   "source": [
    "通道拆分和合并是耗时的，多数情况可以直接使用numpy索引比较好\n",
    "\n",
    "img2 = img[ :, :, 0] #0表示blue通道，1表示green，2表示red"
   ]
  },
  {
   "cell_type": "markdown",
   "metadata": {},
   "source": [
    "### 4.扩充边界\n",
    "在图像处理的时候，有时我们需要在图像边缘填充一圈像素，类似于加一个相框，以便后续运算处理需要，比如做卷积运算时。\n",
    "\n",
    "使用cv2.copyMakeBorder()函数，函数需要的参数有以下这些：\n",
    "\n",
    "src 源图像\n",
    "\n",
    "top ,bottom,left,right 对应的扩展像素数目\n",
    "\n",
    "<center>borderType 需要填充的边界类型</center>\n",
    "\n",
    "|边界类型|\t含义|\n",
    "|-|-\n",
    "cv2.BORDER_CONSTANT\t|添加有颜色的常数形型边界，需要额外下一个参数即颜色值\n",
    "cv2.BORDER_REFLECT\t|边界元素的镜像，例如:fedcba|abcdefgh|hgfedcba\n",
    "cv2.BORDER_REFLECT_101| 或者cv2.BORDER_DEFAULT\t和上面一样，稍有变动：gfedcb|abcdefgh|gfedcba 就是忽略边界的第一个元素\n",
    "cv2.BORDER_REPLICATE\t|重复最后一个元素，例如：aaaaa|abdefg|ggggggg\n",
    "cv2.BORDER_WRAP\t|取镜像，但是上下作用填充区域相反，例如:cdefgh|abcdefgh|abcdefg"
   ]
  },
  {
   "cell_type": "code",
   "execution_count": null,
   "metadata": {},
   "outputs": [],
   "source": [
    "replicate = cv2.copyMakeBorder(img, 100, 100, 100, 100, cv2.BORDER_REPLICATE)\n",
    "reflect = cv2.copyMakeBorder(img, 100, 100, 100, 100, cv2.BORDER_REFLECT)\n",
    "reflect101 = cv2.copyMakeBorder(img, 100, 100, 100, 100, cv2.BORDER_REFLECT101)\n",
    "wrap = cv2.copyMakeBorder(img, 100, 100, 100, 100, cv2.BORDER_WRAP)\n",
    "cv2.imshow('replicate',replicate)\n",
    "cv2.waitKey(0)"
   ]
  },
  {
   "cell_type": "markdown",
   "metadata": {},
   "source": [
    "### 图像加法\n",
    "函数cv2.add() 将两幅图像进行加法运算，当然也可以直接使\n",
    "用numpy，res=img1+img。两幅图像的大小，类型必须一致，或者第二个\n",
    "图像可以使一个简单的标量值。\n",
    "\n",
    "注意：OpenCV 中的加法与Numpy 的加法是有所不同的。OpenCV 的加法\n",
    "是一种**饱和操作**，而Numpy 的加法是一种**模操作**。"
   ]
  },
  {
   "cell_type": "code",
   "execution_count": 5,
   "metadata": {},
   "outputs": [
    {
     "name": "stdout",
     "output_type": "stream",
     "text": [
      "[[255]]\n",
      "[4]\n"
     ]
    },
    {
     "data": {
      "text/plain": [
       "dtype('uint8')"
      ]
     },
     "execution_count": 5,
     "metadata": {},
     "output_type": "execute_result"
    }
   ],
   "source": [
    "import numpy as np\n",
    "import cv2\n",
    "x = np.uint8([250])\n",
    "y = np.uint8([10])\n",
    "print(cv2.add(x,y)) # 250+10 = 260 => 255\n",
    "print (x+y) # 250+10 = 260 % 256 = 4\n",
    "cv2.add(x,y).dtype"
   ]
  },
  {
   "cell_type": "markdown",
   "metadata": {},
   "source": [
    "这种差别在你对两幅图像进行加法时会更加明显。OpenCV 的结果会更好\n",
    "一点。所以我们尽量使用OpenCV 中的函数。对于图像来说更好一点"
   ]
  },
  {
   "cell_type": "markdown",
   "metadata": {},
   "source": [
    "## 图像混合\n",
    "\n",
    "两幅图像的权重不同的特殊加法，这就会给人一种混合或者透明的感觉。图像混合的计算公式如下：\n",
    "<center>$g(x)=(1-\\alpha)f_0(x)+\\alpha f_0(x)$</center>\n",
    "通过修改$\\alpha$的值（0 ! 1），可以实现非常酷的混合。\n",
    "现在我们把两幅图混合在一起。第一幅图的权重是0.7，第二幅图的权重\n",
    "是0.3。函数dst=cv2.addWeighted(img1,0.7,img2,0.3,0)"
   ]
  },
  {
   "cell_type": "markdown",
   "metadata": {},
   "source": []
  }
 ],
 "metadata": {
  "kernelspec": {
   "display_name": "Python 3",
   "language": "python",
   "name": "python3"
  },
  "language_info": {
   "codemirror_mode": {
    "name": "ipython",
    "version": 3
   },
   "file_extension": ".py",
   "mimetype": "text/x-python",
   "name": "python",
   "nbconvert_exporter": "python",
   "pygments_lexer": "ipython3",
   "version": "3.7.0"
  }
 },
 "nbformat": 4,
 "nbformat_minor": 2
}
