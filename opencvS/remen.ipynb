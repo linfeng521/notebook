{
 "cells": [
  {
   "cell_type": "code",
   "execution_count": 1,
   "metadata": {},
   "outputs": [],
   "source": [
    "#导入cv模块\n",
    "import cv2 as cv\n",
    "#读取图像，支持 bmp、jpg、png、tiff 等常用格式\n",
    "img = cv.imread(\"me.png\")\n",
    "#创建窗口并显示图像\n",
    "cv.namedWindow(\"Image\")\n",
    "cv.imshow(\"Image\",img)\n",
    "cv.waitKey(0)\n",
    "#释放窗口\n",
    "cv.destroyAllWindows() "
   ]
  },
  {
   "cell_type": "code",
   "execution_count": 2,
   "metadata": {},
   "outputs": [],
   "source": [
    "import cv2 as cv"
   ]
  },
  {
   "cell_type": "code",
   "execution_count": 3,
   "metadata": {},
   "outputs": [],
   "source": [
    "img = cv.imread(\"hi.jpeg\",0)\n",
    "#创建窗口并显示图像\n",
    "cv.namedWindow(\"Image\")\n",
    "cv.imshow(\"Image\",img)\n",
    "cv.waitKey(0)\n",
    "#释放窗口\n",
    "cv.destroyAllWindows() "
   ]
  },
  {
   "cell_type": "code",
   "execution_count": 8,
   "metadata": {},
   "outputs": [
    {
     "data": {
      "text/plain": [
       "(150, 150)"
      ]
     },
     "execution_count": 8,
     "metadata": {},
     "output_type": "execute_result"
    }
   ],
   "source": [
    "img.shape"
   ]
  },
  {
   "cell_type": "code",
   "execution_count": 9,
   "metadata": {},
   "outputs": [
    {
     "data": {
      "text/plain": [
       "numpy.ndarray"
      ]
     },
     "execution_count": 9,
     "metadata": {},
     "output_type": "execute_result"
    }
   ],
   "source": [
    "type(img)"
   ]
  },
  {
   "cell_type": "code",
   "execution_count": 14,
   "metadata": {},
   "outputs": [
    {
     "data": {
      "text/plain": [
       "array([253, 251, 142,  56, 153, 238, 218, 241, 231, 231, 231, 231, 231,\n",
       "       231, 231, 231, 226, 239, 230, 223, 233, 232, 209,  77, 155, 231,\n",
       "       233, 228, 118,  63, 221, 254, 253, 251, 255, 255, 203, 193, 245,\n",
       "       254, 225, 199, 225, 254, 252, 255, 255, 255, 255, 255, 255, 255,\n",
       "       255, 255, 255, 255, 255, 255, 255, 255, 255, 255, 255, 255, 255,\n",
       "       255, 255, 255, 255, 255, 255, 255, 255, 255, 255, 255, 255, 255,\n",
       "       255, 255, 255, 255, 255, 255, 255, 255, 255, 255, 255, 255, 255,\n",
       "       255, 255, 255, 255, 255, 255, 255, 255, 255, 255, 255, 255, 255,\n",
       "       255, 248, 254, 255, 255, 246, 248, 249, 116,  64,  99, 223, 237,\n",
       "       221, 229, 234, 229, 232, 225, 233,  99,  50, 199, 251, 251, 247,\n",
       "       255, 255, 249, 252, 255, 255, 255, 255, 255, 255, 255, 255, 255,\n",
       "       255, 255, 255, 255, 255, 255, 255], dtype=uint8)"
      ]
     },
     "execution_count": 14,
     "metadata": {},
     "output_type": "execute_result"
    }
   ],
   "source": [
    "img[100]"
   ]
  },
  {
   "cell_type": "markdown",
   "metadata": {},
   "source": [
    "## 图像基本IO操作\n",
    "：cv2.imread()，cv2.imshow()，cv2.imwrite()\n"
   ]
  },
  {
   "cell_type": "markdown",
   "metadata": {},
   "source": [
    "## 1. 读入图像\n",
    "使用函数cv2.imread() 读入图像。这幅图像应该在此程序的工作路径，或者给函数提供完整路径，\n",
    "    第二个参数是要告诉函数应该如何读取这幅图片。\n",
    "\n",
    "    • cv2.IMREAD_COLOR：读入一副彩色图像。图像的透明度会被忽略，这是默认参数。\n",
    "    \n",
    "    • cv2.IMREAD_GRAYSCALE：以灰度模式读入图像\n",
    "    \n",
    "    . cv2.IMREAD_UNCHANGED：读入一幅图像，并且包括图像的alpha 通道"
   ]
  },
  {
   "cell_type": "code",
   "execution_count": 4,
   "metadata": {},
   "outputs": [],
   "source": [
    "import cv2 \n",
    "img = cv2.imread(\"hi.jpeg\",cv2.IMREAD_GRAYSCALE)\n",
    "#创建窗口并显示图像\n",
    "cv2.namedWindow(\"Image\")\n",
    "cv2.imshow(\"Image\",img)\n",
    "cv2.waitKey(0)\n",
    "#释放窗口\n",
    "cv2.destroyAllWindows() "
   ]
  },
  {
   "cell_type": "markdown",
   "metadata": {},
   "source": [
    "## 2. 显示图像\n",
    "使用函数cv2.imshow() 显示图像。窗口会自动调整为图像大小。第一\n",
    "个参数是窗口的名字，其次才是我们的图像。"
   ]
  },
  {
   "cell_type": "markdown",
   "metadata": {},
   "source": [
    "## 3.写入图像\n"
   ]
  },
  {
   "cell_type": "code",
   "execution_count": 5,
   "metadata": {},
   "outputs": [
    {
     "data": {
      "text/plain": [
       "True"
      ]
     },
     "execution_count": 5,
     "metadata": {},
     "output_type": "execute_result"
    }
   ],
   "source": [
    "cv2.imwrite('megray.png',img)"
   ]
  },
  {
   "cell_type": "markdown",
   "metadata": {},
   "source": [
    "注意: \n",
    "1. cv2.waitKey() 是一个键盘绑定函数。需要指出的是它的时间尺度是毫秒级。函数等待特定的几毫秒，看是否有键盘输入。特定的几毫秒之内，如果按下任意键，这个函数会返回按键的ASCII 码值，程序将会继续运行。如果没有键盘输入，返回值为-1，如果我们设置这个函数的参数为0，那它将会无限期的等待键盘输入。它也可以被用来检测特定键是否被按下，例如按键a 是否被按下，这个后面我们会接着讨论。\n",
    "\n",
    "2. cv2.destroyAllWindows() 可以轻易删除任何我们建立的窗口。如果你想删除特定的窗口可以使用cv2.destroyWindow()，在括号内输入你想删除的窗口名。\n",
    "\n",
    "**建议**：一种特殊的情况是， 你也可以先创建一个窗口， 之后再加载图像。这种情况下， 你可以决定窗口是否可以调整大小。使用到的函数是cv2.namedWindow()。初始设定函数标签是cv2.WINDOW_AUTOSIZE。但是如果你把标签改成cv2.WINDOW_NORMAL，你就可以调整窗口大小了。当图像维度太大，或者要添加轨迹条时，调整窗口大小将会很有用"
   ]
  },
  {
   "cell_type": "code",
   "execution_count": 7,
   "metadata": {},
   "outputs": [],
   "source": [
    "img = cv2.imread(\"megray.png\")\n",
    "cv2.imshow(\"hi\",img)\n",
    "cv2.waitKey(0)\n",
    "cv2.destroyAllWindows() "
   ]
  },
  {
   "cell_type": "markdown",
   "metadata": {},
   "source": [
    "# 视频操作\n",
    "读取视频文件，显示视频，保存视频文件\n",
    "从摄像头获取并显示视频\n",
    "cv2.VideoCapture()，cv2.VideoWrite()"
   ]
  },
  {
   "cell_type": "markdown",
   "metadata": {},
   "source": [
    "## 1. 用摄像头捕获视频\n",
    "\n",
    "1. 创建一个VideoCapture 对象。他的参数可以是设备的索引号，或者是一个视频文件。设备索引号就是在指定要使用的摄像头。一般的笔记本电脑都有内置摄像头。所以参数就是0。你可以通过设置成1 或者其他的来选择别的摄像头。之后，你就可以一帧一帧的捕获视频了。但是最后，别忘了停止捕获视频。"
   ]
  },
  {
   "cell_type": "code",
   "execution_count": 10,
   "metadata": {},
   "outputs": [],
   "source": [
    "import numpy as np\n",
    "import cv2\n",
    "cap = cv2.VideoCapture(0)\n",
    "while(True):\n",
    "    # Capture frame-by-frame\n",
    "    ret, frame = cap.read()\n",
    "    # Our operations on the frame come here\n",
    "    gray = cv2.cvtColor(frame, cv2.COLOR_BGR2GRAY)\n",
    "    # Display the resulting frame\n",
    "    cv2.imshow('frame',gray)\n",
    "    if cv2.waitKey(1) & 0xFF == ord('q'):\n",
    "        break\n",
    "# When everything done, release the capture\n",
    "cap.release()\n",
    "cv2.destroyAllWindows()"
   ]
  },
  {
   "cell_type": "markdown",
   "metadata": {},
   "source": [
    "cap.read() 返回一个布尔值（True/False）。如果帧读取的是正确的，就是True。所以最后你可以通过检查他的返回值来查看视频文件是否已经到了结尾。\n",
    "\n",
    "有时cap 可能不能成功的初始化摄像头设备。这种情况下上面的代码会报\n",
    "错。你可以使用cap.isOpened()，来检查是否成功初始化了。如果返回值是\n",
    "True，那就没有问题。否则就要使用函数cap.open()。\n",
    "你可以使用函数cap.get(propId) 来获得视频的一些参数信息。这里\n",
    "propId 可以是0 到18 之间的任何整数。每一个数代表视频的一个属性，见\n",
    "下表\n",
    "其中的一些值可以使用cap.set(propId,value) 来修改，value 就是\n",
    "你想要设置成的新值。\n",
    "例如，我可以使用cap.get(3) 和cap.get(4) 来查看每一帧的宽和高。\n",
    "默认情况下得到的值是640X480。但是我可以使用ret=cap.set(3,320)\n",
    "和ret=cap.set(4,240) 来把宽和高改成320X240。"
   ]
  },
  {
   "cell_type": "markdown",
   "metadata": {},
   "source": [
    "## 从文件中播放视频\n",
    "与从摄像头中捕获一样，你只需要把设备索引号改成视频文件的名字。在\n",
    "播放每一帧时，使用cv2.waiKey() 设置适当的持续时间。如果设置的太低视\n",
    "频就会播放的非常快，如果设置的太高就会播放的很慢（你可以使用这种方法\n",
    "控制视频的播放速度）。通常情况下25 毫秒就可以了。"
   ]
  },
  {
   "cell_type": "code",
   "execution_count": null,
   "metadata": {},
   "outputs": [],
   "source": []
  }
 ],
 "metadata": {
  "kernelspec": {
   "display_name": "Python 3",
   "language": "python",
   "name": "python3"
  },
  "language_info": {
   "codemirror_mode": {
    "name": "ipython",
    "version": 3
   },
   "file_extension": ".py",
   "mimetype": "text/x-python",
   "name": "python",
   "nbconvert_exporter": "python",
   "pygments_lexer": "ipython3",
   "version": "3.7.0"
  }
 },
 "nbformat": 4,
 "nbformat_minor": 2
}
